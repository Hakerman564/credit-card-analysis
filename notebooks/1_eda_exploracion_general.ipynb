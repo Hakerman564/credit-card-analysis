{
 "cells": [
  {
   "cell_type": "markdown",
   "id": "163005bf",
   "metadata": {},
   "source": [
    "Import"
   ]
  },
  {
   "cell_type": "code",
   "execution_count": 1,
   "id": "66d93604",
   "metadata": {},
   "outputs": [],
   "source": [
    "import os\n",
    "import pandas as pd\n",
    "import numpy as np\n",
    "import seaborn as sns\n",
    "import matplotlib.pyplot as plt"
   ]
  },
  {
   "cell_type": "code",
   "execution_count": 2,
   "id": "13866620",
   "metadata": {},
   "outputs": [],
   "source": [
    "\n",
    "df = pd.read_csv(\"../data/transactions.csv\")  \n",
    "pd.set_option('display.float_format', '{:.2f}'.format)"
   ]
  },
  {
   "cell_type": "code",
   "execution_count": 3,
   "id": "20f15372",
   "metadata": {},
   "outputs": [
    {
     "data": {
      "text/html": [
       "<div>\n",
       "<style scoped>\n",
       "    .dataframe tbody tr th:only-of-type {\n",
       "        vertical-align: middle;\n",
       "    }\n",
       "\n",
       "    .dataframe tbody tr th {\n",
       "        vertical-align: top;\n",
       "    }\n",
       "\n",
       "    .dataframe thead th {\n",
       "        text-align: right;\n",
       "    }\n",
       "</style>\n",
       "<table border=\"1\" class=\"dataframe\">\n",
       "  <thead>\n",
       "    <tr style=\"text-align: right;\">\n",
       "      <th></th>\n",
       "      <th>step</th>\n",
       "      <th>type</th>\n",
       "      <th>amount</th>\n",
       "      <th>nameOrig</th>\n",
       "      <th>oldbalanceOrg</th>\n",
       "      <th>newbalanceOrig</th>\n",
       "      <th>nameDest</th>\n",
       "      <th>oldbalanceDest</th>\n",
       "      <th>newbalanceDest</th>\n",
       "      <th>isFraud</th>\n",
       "    </tr>\n",
       "  </thead>\n",
       "  <tbody>\n",
       "    <tr>\n",
       "      <th>0</th>\n",
       "      <td>8</td>\n",
       "      <td>CASH_OUT</td>\n",
       "      <td>158007.12</td>\n",
       "      <td>C424875646</td>\n",
       "      <td>0.00</td>\n",
       "      <td>0.00</td>\n",
       "      <td>C1298177219</td>\n",
       "      <td>474016.32</td>\n",
       "      <td>1618631.97</td>\n",
       "      <td>0</td>\n",
       "    </tr>\n",
       "    <tr>\n",
       "      <th>1</th>\n",
       "      <td>236</td>\n",
       "      <td>CASH_OUT</td>\n",
       "      <td>457948.30</td>\n",
       "      <td>C1342616552</td>\n",
       "      <td>0.00</td>\n",
       "      <td>0.00</td>\n",
       "      <td>C1323169990</td>\n",
       "      <td>2720411.37</td>\n",
       "      <td>3178359.67</td>\n",
       "      <td>0</td>\n",
       "    </tr>\n",
       "    <tr>\n",
       "      <th>2</th>\n",
       "      <td>37</td>\n",
       "      <td>CASH_IN</td>\n",
       "      <td>153602.99</td>\n",
       "      <td>C900876541</td>\n",
       "      <td>11160428.67</td>\n",
       "      <td>11314031.67</td>\n",
       "      <td>C608741097</td>\n",
       "      <td>3274930.56</td>\n",
       "      <td>3121327.56</td>\n",
       "      <td>0</td>\n",
       "    </tr>\n",
       "    <tr>\n",
       "      <th>3</th>\n",
       "      <td>331</td>\n",
       "      <td>CASH_OUT</td>\n",
       "      <td>49555.14</td>\n",
       "      <td>C177696810</td>\n",
       "      <td>10865.00</td>\n",
       "      <td>0.00</td>\n",
       "      <td>C462716348</td>\n",
       "      <td>0.00</td>\n",
       "      <td>49555.14</td>\n",
       "      <td>0</td>\n",
       "    </tr>\n",
       "    <tr>\n",
       "      <th>4</th>\n",
       "      <td>250</td>\n",
       "      <td>CASH_OUT</td>\n",
       "      <td>29648.02</td>\n",
       "      <td>C788941490</td>\n",
       "      <td>0.00</td>\n",
       "      <td>0.00</td>\n",
       "      <td>C1971700992</td>\n",
       "      <td>56933.09</td>\n",
       "      <td>86581.10</td>\n",
       "      <td>0</td>\n",
       "    </tr>\n",
       "  </tbody>\n",
       "</table>\n",
       "</div>"
      ],
      "text/plain": [
       "   step      type    amount     nameOrig  oldbalanceOrg  newbalanceOrig  \\\n",
       "0     8  CASH_OUT 158007.12   C424875646           0.00            0.00   \n",
       "1   236  CASH_OUT 457948.30  C1342616552           0.00            0.00   \n",
       "2    37   CASH_IN 153602.99   C900876541    11160428.67     11314031.67   \n",
       "3   331  CASH_OUT  49555.14   C177696810       10865.00            0.00   \n",
       "4   250  CASH_OUT  29648.02   C788941490           0.00            0.00   \n",
       "\n",
       "      nameDest  oldbalanceDest  newbalanceDest  isFraud  \n",
       "0  C1298177219       474016.32      1618631.97        0  \n",
       "1  C1323169990      2720411.37      3178359.67        0  \n",
       "2   C608741097      3274930.56      3121327.56        0  \n",
       "3   C462716348            0.00        49555.14        0  \n",
       "4  C1971700992        56933.09        86581.10        0  "
      ]
     },
     "execution_count": 3,
     "metadata": {},
     "output_type": "execute_result"
    }
   ],
   "source": [
    "df.head()"
   ]
  },
  {
   "cell_type": "code",
   "execution_count": 4,
   "id": "7d5d00c5",
   "metadata": {},
   "outputs": [
    {
     "name": "stdout",
     "output_type": "stream",
     "text": [
      "<class 'pandas.core.frame.DataFrame'>\n",
      "RangeIndex: 199999 entries, 0 to 199998\n",
      "Data columns (total 10 columns):\n",
      " #   Column          Non-Null Count   Dtype  \n",
      "---  ------          --------------   -----  \n",
      " 0   step            199999 non-null  int64  \n",
      " 1   type            199999 non-null  object \n",
      " 2   amount          199999 non-null  float64\n",
      " 3   nameOrig        199999 non-null  object \n",
      " 4   oldbalanceOrg   199999 non-null  float64\n",
      " 5   newbalanceOrig  199999 non-null  float64\n",
      " 6   nameDest        199999 non-null  object \n",
      " 7   oldbalanceDest  199999 non-null  float64\n",
      " 8   newbalanceDest  199999 non-null  float64\n",
      " 9   isFraud         199999 non-null  int64  \n",
      "dtypes: float64(5), int64(2), object(3)\n",
      "memory usage: 15.3+ MB\n"
     ]
    }
   ],
   "source": [
    "df.info()"
   ]
  },
  {
   "cell_type": "code",
   "execution_count": 5,
   "id": "f7a029c3",
   "metadata": {},
   "outputs": [
    {
     "name": "stderr",
     "output_type": "stream",
     "text": [
      "C:\\Users\\Eduar\\AppData\\Local\\Temp\\ipykernel_13916\\3608215248.py:2: FutureWarning: DataFrame.applymap has been deprecated. Use DataFrame.map instead.\n",
      "  desc_formateado = desc.applymap(lambda x: f\"{x:,.2f}\".replace(\",\", \" \"))\n"
     ]
    },
    {
     "data": {
      "text/html": [
       "<div>\n",
       "<style scoped>\n",
       "    .dataframe tbody tr th:only-of-type {\n",
       "        vertical-align: middle;\n",
       "    }\n",
       "\n",
       "    .dataframe tbody tr th {\n",
       "        vertical-align: top;\n",
       "    }\n",
       "\n",
       "    .dataframe thead th {\n",
       "        text-align: right;\n",
       "    }\n",
       "</style>\n",
       "<table border=\"1\" class=\"dataframe\">\n",
       "  <thead>\n",
       "    <tr style=\"text-align: right;\">\n",
       "      <th></th>\n",
       "      <th>step</th>\n",
       "      <th>amount</th>\n",
       "      <th>oldbalanceOrg</th>\n",
       "      <th>newbalanceOrig</th>\n",
       "      <th>oldbalanceDest</th>\n",
       "      <th>newbalanceDest</th>\n",
       "      <th>isFraud</th>\n",
       "    </tr>\n",
       "  </thead>\n",
       "  <tbody>\n",
       "    <tr>\n",
       "      <th>count</th>\n",
       "      <td>199 999.00</td>\n",
       "      <td>199 999.00</td>\n",
       "      <td>199 999.00</td>\n",
       "      <td>199 999.00</td>\n",
       "      <td>199 999.00</td>\n",
       "      <td>199 999.00</td>\n",
       "      <td>199 999.00</td>\n",
       "    </tr>\n",
       "    <tr>\n",
       "      <th>mean</th>\n",
       "      <td>243.29</td>\n",
       "      <td>180 242.49</td>\n",
       "      <td>831 436.11</td>\n",
       "      <td>852 333.32</td>\n",
       "      <td>1 093 644.20</td>\n",
       "      <td>1 218 886.29</td>\n",
       "      <td>0.00</td>\n",
       "    </tr>\n",
       "    <tr>\n",
       "      <th>std</th>\n",
       "      <td>141.80</td>\n",
       "      <td>625 548.23</td>\n",
       "      <td>2 882 313.99</td>\n",
       "      <td>2 917 352.10</td>\n",
       "      <td>3 302 878.09</td>\n",
       "      <td>3 627 191.60</td>\n",
       "      <td>0.04</td>\n",
       "    </tr>\n",
       "    <tr>\n",
       "      <th>min</th>\n",
       "      <td>1.00</td>\n",
       "      <td>0.00</td>\n",
       "      <td>0.00</td>\n",
       "      <td>0.00</td>\n",
       "      <td>0.00</td>\n",
       "      <td>0.00</td>\n",
       "      <td>0.00</td>\n",
       "    </tr>\n",
       "    <tr>\n",
       "      <th>25%</th>\n",
       "      <td>156.00</td>\n",
       "      <td>13 387.46</td>\n",
       "      <td>0.00</td>\n",
       "      <td>0.00</td>\n",
       "      <td>0.00</td>\n",
       "      <td>0.00</td>\n",
       "      <td>0.00</td>\n",
       "    </tr>\n",
       "    <tr>\n",
       "      <th>50%</th>\n",
       "      <td>238.00</td>\n",
       "      <td>74 266.95</td>\n",
       "      <td>14 201.00</td>\n",
       "      <td>0.00</td>\n",
       "      <td>132 057.24</td>\n",
       "      <td>213 809.81</td>\n",
       "      <td>0.00</td>\n",
       "    </tr>\n",
       "    <tr>\n",
       "      <th>75%</th>\n",
       "      <td>334.00</td>\n",
       "      <td>208 637.58</td>\n",
       "      <td>107 848.92</td>\n",
       "      <td>144 962.90</td>\n",
       "      <td>941 029.05</td>\n",
       "      <td>1 109 081.56</td>\n",
       "      <td>0.00</td>\n",
       "    </tr>\n",
       "    <tr>\n",
       "      <th>max</th>\n",
       "      <td>741.00</td>\n",
       "      <td>52 042 803.47</td>\n",
       "      <td>50 399 045.08</td>\n",
       "      <td>40 399 045.08</td>\n",
       "      <td>235 932 693.80</td>\n",
       "      <td>311 404 901.40</td>\n",
       "      <td>1.00</td>\n",
       "    </tr>\n",
       "  </tbody>\n",
       "</table>\n",
       "</div>"
      ],
      "text/plain": [
       "             step         amount  oldbalanceOrg newbalanceOrig  \\\n",
       "count  199 999.00     199 999.00     199 999.00     199 999.00   \n",
       "mean       243.29     180 242.49     831 436.11     852 333.32   \n",
       "std        141.80     625 548.23   2 882 313.99   2 917 352.10   \n",
       "min          1.00           0.00           0.00           0.00   \n",
       "25%        156.00      13 387.46           0.00           0.00   \n",
       "50%        238.00      74 266.95      14 201.00           0.00   \n",
       "75%        334.00     208 637.58     107 848.92     144 962.90   \n",
       "max        741.00  52 042 803.47  50 399 045.08  40 399 045.08   \n",
       "\n",
       "       oldbalanceDest  newbalanceDest     isFraud  \n",
       "count      199 999.00      199 999.00  199 999.00  \n",
       "mean     1 093 644.20    1 218 886.29        0.00  \n",
       "std      3 302 878.09    3 627 191.60        0.04  \n",
       "min              0.00            0.00        0.00  \n",
       "25%              0.00            0.00        0.00  \n",
       "50%        132 057.24      213 809.81        0.00  \n",
       "75%        941 029.05    1 109 081.56        0.00  \n",
       "max    235 932 693.80  311 404 901.40        1.00  "
      ]
     },
     "execution_count": 5,
     "metadata": {},
     "output_type": "execute_result"
    }
   ],
   "source": [
    "desc = df.describe()\n",
    "desc_formateado = desc.applymap(lambda x: f\"{x:,.2f}\".replace(\",\", \" \"))\n",
    "desc_formateado"
   ]
  },
  {
   "cell_type": "markdown",
   "id": "529f5619",
   "metadata": {},
   "source": [
    "# unique Valores"
   ]
  },
  {
   "cell_type": "code",
   "execution_count": 6,
   "id": "a39674c3",
   "metadata": {},
   "outputs": [
    {
     "data": {
      "text/plain": [
       "(524,)"
      ]
     },
     "execution_count": 6,
     "metadata": {},
     "output_type": "execute_result"
    }
   ],
   "source": [
    "df['step'].unique().shape\n"
   ]
  },
  {
   "cell_type": "code",
   "execution_count": 7,
   "id": "2c4c5c9c",
   "metadata": {},
   "outputs": [
    {
     "data": {
      "text/plain": [
       "array(['CASH_OUT', 'CASH_IN', 'PAYMENT', 'TRANSFER', 'DEBIT'],\n",
       "      dtype=object)"
      ]
     },
     "execution_count": 7,
     "metadata": {},
     "output_type": "execute_result"
    }
   ],
   "source": [
    "df['type'].unique()"
   ]
  },
  {
   "cell_type": "code",
   "execution_count": 36,
   "id": "406a16a4",
   "metadata": {},
   "outputs": [
    {
     "data": {
      "text/plain": [
       "(199999,)"
      ]
     },
     "execution_count": 36,
     "metadata": {},
     "output_type": "execute_result"
    }
   ],
   "source": [
    "df['nameOrig'].shape"
   ]
  },
  {
   "cell_type": "code",
   "execution_count": 37,
   "id": "09f7ba5c",
   "metadata": {},
   "outputs": [
    {
     "data": {
      "text/plain": [
       "<bound method IndexOpsMixin.value_counts of 0         C1298177219\n",
       "1         C1323169990\n",
       "2          C608741097\n",
       "3          C462716348\n",
       "4         C1971700992\n",
       "             ...     \n",
       "199994     M671547467\n",
       "199995    C1571552280\n",
       "199996    C1831159716\n",
       "199997     C371793088\n",
       "199998     C194464706\n",
       "Name: nameDest, Length: 199999, dtype: object>"
      ]
     },
     "execution_count": 37,
     "metadata": {},
     "output_type": "execute_result"
    }
   ],
   "source": [
    "df['nameDest'].value_counts"
   ]
  },
  {
   "cell_type": "markdown",
   "id": "43d0b60b",
   "metadata": {},
   "source": [
    "# Analisis de fraudes"
   ]
  },
  {
   "cell_type": "code",
   "execution_count": 10,
   "id": "3a39b97f",
   "metadata": {},
   "outputs": [],
   "source": [
    "fraudes = df[df['isFraud'] == 1]\n",
    "regulares = df[df['isFraud'] == 0]\n",
    "totales = df.shape[0]"
   ]
  },
  {
   "cell_type": "code",
   "execution_count": 11,
   "id": "825be827",
   "metadata": {},
   "outputs": [
    {
     "name": "stdout",
     "output_type": "stream",
     "text": [
      "porcentajes de fraude: \n",
      "0.14100070500352502\n",
      "porcentajes de regulares:\n",
      "99.85899929499648\n",
      "total de fraudes:\n",
      "282\n"
     ]
    }
   ],
   "source": [
    "print(\"porcentajes de fraude: \")\n",
    "print((fraudes.shape[0]/totales)*100)\n",
    "print(\"porcentajes de regulares:\")\n",
    "print((regulares.shape[0]/totales)*100)\n",
    "\n",
    "print(\"total de fraudes:\")\n",
    "print(fraudes.shape[0])"
   ]
  },
  {
   "cell_type": "markdown",
   "id": "470a6198",
   "metadata": {},
   "source": [
    "solo un 0.14 % son fraudulentas"
   ]
  },
  {
   "cell_type": "code",
   "execution_count": 12,
   "id": "9162a324",
   "metadata": {},
   "outputs": [
    {
     "data": {
      "text/plain": [
       "type      isFraud\n",
       "CASH_OUT  1          132\n",
       "TRANSFER  1          150\n",
       "dtype: int64"
      ]
     },
     "execution_count": 12,
     "metadata": {},
     "output_type": "execute_result"
    }
   ],
   "source": [
    "fraudes.groupby(['type', 'isFraud']).size()\n"
   ]
  },
  {
   "cell_type": "markdown",
   "id": "6f8fe433",
   "metadata": {},
   "source": [
    "los fraudes solo exiten son sacando dinero del sistema y en trasferencias"
   ]
  },
  {
   "cell_type": "markdown",
   "id": "4b2c5808",
   "metadata": {},
   "source": [
    "## entendiendo las transsaciones"
   ]
  },
  {
   "cell_type": "code",
   "execution_count": 13,
   "id": "b6f0b127",
   "metadata": {},
   "outputs": [],
   "source": [
    "cash_out = df[df['type'] == 'CASH_OUT']\n",
    "cash_in  =  df[df['type'] == 'CASH_IN']\n",
    "payment  = df[df['type'] == 'PAYMENT']\n",
    "transfer = df[df['type'] == 'TRANSFER']\n",
    "debit  = df[df['type'] == 'DEBIT']\n",
    "\n"
   ]
  },
  {
   "cell_type": "code",
   "execution_count": 14,
   "id": "dba3a688",
   "metadata": {},
   "outputs": [
    {
     "data": {
      "text/html": [
       "<div>\n",
       "<style scoped>\n",
       "    .dataframe tbody tr th:only-of-type {\n",
       "        vertical-align: middle;\n",
       "    }\n",
       "\n",
       "    .dataframe tbody tr th {\n",
       "        vertical-align: top;\n",
       "    }\n",
       "\n",
       "    .dataframe thead th {\n",
       "        text-align: right;\n",
       "    }\n",
       "</style>\n",
       "<table border=\"1\" class=\"dataframe\">\n",
       "  <thead>\n",
       "    <tr style=\"text-align: right;\">\n",
       "      <th></th>\n",
       "      <th>step</th>\n",
       "      <th>type</th>\n",
       "      <th>amount</th>\n",
       "      <th>nameOrig</th>\n",
       "      <th>oldbalanceOrg</th>\n",
       "      <th>newbalanceOrig</th>\n",
       "      <th>nameDest</th>\n",
       "      <th>oldbalanceDest</th>\n",
       "      <th>newbalanceDest</th>\n",
       "      <th>isFraud</th>\n",
       "    </tr>\n",
       "  </thead>\n",
       "  <tbody>\n",
       "    <tr>\n",
       "      <th>0</th>\n",
       "      <td>8</td>\n",
       "      <td>CASH_OUT</td>\n",
       "      <td>158007.12</td>\n",
       "      <td>C424875646</td>\n",
       "      <td>0.00</td>\n",
       "      <td>0.00</td>\n",
       "      <td>C1298177219</td>\n",
       "      <td>474016.32</td>\n",
       "      <td>1618631.97</td>\n",
       "      <td>0</td>\n",
       "    </tr>\n",
       "    <tr>\n",
       "      <th>1</th>\n",
       "      <td>236</td>\n",
       "      <td>CASH_OUT</td>\n",
       "      <td>457948.30</td>\n",
       "      <td>C1342616552</td>\n",
       "      <td>0.00</td>\n",
       "      <td>0.00</td>\n",
       "      <td>C1323169990</td>\n",
       "      <td>2720411.37</td>\n",
       "      <td>3178359.67</td>\n",
       "      <td>0</td>\n",
       "    </tr>\n",
       "    <tr>\n",
       "      <th>3</th>\n",
       "      <td>331</td>\n",
       "      <td>CASH_OUT</td>\n",
       "      <td>49555.14</td>\n",
       "      <td>C177696810</td>\n",
       "      <td>10865.00</td>\n",
       "      <td>0.00</td>\n",
       "      <td>C462716348</td>\n",
       "      <td>0.00</td>\n",
       "      <td>49555.14</td>\n",
       "      <td>0</td>\n",
       "    </tr>\n",
       "    <tr>\n",
       "      <th>4</th>\n",
       "      <td>250</td>\n",
       "      <td>CASH_OUT</td>\n",
       "      <td>29648.02</td>\n",
       "      <td>C788941490</td>\n",
       "      <td>0.00</td>\n",
       "      <td>0.00</td>\n",
       "      <td>C1971700992</td>\n",
       "      <td>56933.09</td>\n",
       "      <td>86581.10</td>\n",
       "      <td>0</td>\n",
       "    </tr>\n",
       "    <tr>\n",
       "      <th>9</th>\n",
       "      <td>156</td>\n",
       "      <td>CASH_OUT</td>\n",
       "      <td>180660.51</td>\n",
       "      <td>C106721885</td>\n",
       "      <td>10044.00</td>\n",
       "      <td>0.00</td>\n",
       "      <td>C1944402764</td>\n",
       "      <td>32319.16</td>\n",
       "      <td>212979.67</td>\n",
       "      <td>0</td>\n",
       "    </tr>\n",
       "  </tbody>\n",
       "</table>\n",
       "</div>"
      ],
      "text/plain": [
       "   step      type    amount     nameOrig  oldbalanceOrg  newbalanceOrig  \\\n",
       "0     8  CASH_OUT 158007.12   C424875646           0.00            0.00   \n",
       "1   236  CASH_OUT 457948.30  C1342616552           0.00            0.00   \n",
       "3   331  CASH_OUT  49555.14   C177696810       10865.00            0.00   \n",
       "4   250  CASH_OUT  29648.02   C788941490           0.00            0.00   \n",
       "9   156  CASH_OUT 180660.51   C106721885       10044.00            0.00   \n",
       "\n",
       "      nameDest  oldbalanceDest  newbalanceDest  isFraud  \n",
       "0  C1298177219       474016.32      1618631.97        0  \n",
       "1  C1323169990      2720411.37      3178359.67        0  \n",
       "3   C462716348            0.00        49555.14        0  \n",
       "4  C1971700992        56933.09        86581.10        0  \n",
       "9  C1944402764        32319.16       212979.67        0  "
      ]
     },
     "execution_count": 14,
     "metadata": {},
     "output_type": "execute_result"
    }
   ],
   "source": [
    "cash_out.head()\n",
    "\n",
    "\n",
    "\n"
   ]
  },
  {
   "cell_type": "code",
   "execution_count": 15,
   "id": "31937878",
   "metadata": {},
   "outputs": [
    {
     "data": {
      "text/html": [
       "<div>\n",
       "<style scoped>\n",
       "    .dataframe tbody tr th:only-of-type {\n",
       "        vertical-align: middle;\n",
       "    }\n",
       "\n",
       "    .dataframe tbody tr th {\n",
       "        vertical-align: top;\n",
       "    }\n",
       "\n",
       "    .dataframe thead th {\n",
       "        text-align: right;\n",
       "    }\n",
       "</style>\n",
       "<table border=\"1\" class=\"dataframe\">\n",
       "  <thead>\n",
       "    <tr style=\"text-align: right;\">\n",
       "      <th></th>\n",
       "      <th>step</th>\n",
       "      <th>type</th>\n",
       "      <th>amount</th>\n",
       "      <th>nameOrig</th>\n",
       "      <th>oldbalanceOrg</th>\n",
       "      <th>newbalanceOrig</th>\n",
       "      <th>nameDest</th>\n",
       "      <th>oldbalanceDest</th>\n",
       "      <th>newbalanceDest</th>\n",
       "      <th>isFraud</th>\n",
       "    </tr>\n",
       "  </thead>\n",
       "  <tbody>\n",
       "    <tr>\n",
       "      <th>2</th>\n",
       "      <td>37</td>\n",
       "      <td>CASH_IN</td>\n",
       "      <td>153602.99</td>\n",
       "      <td>C900876541</td>\n",
       "      <td>11160428.67</td>\n",
       "      <td>11314031.67</td>\n",
       "      <td>C608741097</td>\n",
       "      <td>3274930.56</td>\n",
       "      <td>3121327.56</td>\n",
       "      <td>0</td>\n",
       "    </tr>\n",
       "    <tr>\n",
       "      <th>12</th>\n",
       "      <td>180</td>\n",
       "      <td>CASH_IN</td>\n",
       "      <td>172163.65</td>\n",
       "      <td>C62662075</td>\n",
       "      <td>126185.00</td>\n",
       "      <td>298348.65</td>\n",
       "      <td>C898955098</td>\n",
       "      <td>4697103.49</td>\n",
       "      <td>4524939.85</td>\n",
       "      <td>0</td>\n",
       "    </tr>\n",
       "    <tr>\n",
       "      <th>15</th>\n",
       "      <td>403</td>\n",
       "      <td>CASH_IN</td>\n",
       "      <td>103104.65</td>\n",
       "      <td>C1553566264</td>\n",
       "      <td>1105122.03</td>\n",
       "      <td>1208226.68</td>\n",
       "      <td>C1257936364</td>\n",
       "      <td>684880.98</td>\n",
       "      <td>581776.32</td>\n",
       "      <td>0</td>\n",
       "    </tr>\n",
       "    <tr>\n",
       "      <th>18</th>\n",
       "      <td>16</td>\n",
       "      <td>CASH_IN</td>\n",
       "      <td>474070.38</td>\n",
       "      <td>C1940404557</td>\n",
       "      <td>120.00</td>\n",
       "      <td>474190.38</td>\n",
       "      <td>C604023654</td>\n",
       "      <td>9035.00</td>\n",
       "      <td>0.00</td>\n",
       "      <td>0</td>\n",
       "    </tr>\n",
       "    <tr>\n",
       "      <th>21</th>\n",
       "      <td>179</td>\n",
       "      <td>CASH_IN</td>\n",
       "      <td>399721.00</td>\n",
       "      <td>C108988841</td>\n",
       "      <td>5657749.28</td>\n",
       "      <td>6057470.28</td>\n",
       "      <td>C1608590055</td>\n",
       "      <td>1073650.18</td>\n",
       "      <td>673929.18</td>\n",
       "      <td>0</td>\n",
       "    </tr>\n",
       "  </tbody>\n",
       "</table>\n",
       "</div>"
      ],
      "text/plain": [
       "    step     type    amount     nameOrig  oldbalanceOrg  newbalanceOrig  \\\n",
       "2     37  CASH_IN 153602.99   C900876541    11160428.67     11314031.67   \n",
       "12   180  CASH_IN 172163.65    C62662075      126185.00       298348.65   \n",
       "15   403  CASH_IN 103104.65  C1553566264     1105122.03      1208226.68   \n",
       "18    16  CASH_IN 474070.38  C1940404557         120.00       474190.38   \n",
       "21   179  CASH_IN 399721.00   C108988841     5657749.28      6057470.28   \n",
       "\n",
       "       nameDest  oldbalanceDest  newbalanceDest  isFraud  \n",
       "2    C608741097      3274930.56      3121327.56        0  \n",
       "12   C898955098      4697103.49      4524939.85        0  \n",
       "15  C1257936364       684880.98       581776.32        0  \n",
       "18   C604023654         9035.00            0.00        0  \n",
       "21  C1608590055      1073650.18       673929.18        0  "
      ]
     },
     "execution_count": 15,
     "metadata": {},
     "output_type": "execute_result"
    }
   ],
   "source": [
    "cash_in.head()"
   ]
  },
  {
   "cell_type": "code",
   "execution_count": 16,
   "id": "1df81de9",
   "metadata": {},
   "outputs": [
    {
     "data": {
      "text/html": [
       "<div>\n",
       "<style scoped>\n",
       "    .dataframe tbody tr th:only-of-type {\n",
       "        vertical-align: middle;\n",
       "    }\n",
       "\n",
       "    .dataframe tbody tr th {\n",
       "        vertical-align: top;\n",
       "    }\n",
       "\n",
       "    .dataframe thead th {\n",
       "        text-align: right;\n",
       "    }\n",
       "</style>\n",
       "<table border=\"1\" class=\"dataframe\">\n",
       "  <thead>\n",
       "    <tr style=\"text-align: right;\">\n",
       "      <th></th>\n",
       "      <th>step</th>\n",
       "      <th>type</th>\n",
       "      <th>amount</th>\n",
       "      <th>nameOrig</th>\n",
       "      <th>oldbalanceOrg</th>\n",
       "      <th>newbalanceOrig</th>\n",
       "      <th>nameDest</th>\n",
       "      <th>oldbalanceDest</th>\n",
       "      <th>newbalanceDest</th>\n",
       "      <th>isFraud</th>\n",
       "    </tr>\n",
       "  </thead>\n",
       "  <tbody>\n",
       "    <tr>\n",
       "      <th>5</th>\n",
       "      <td>182</td>\n",
       "      <td>PAYMENT</td>\n",
       "      <td>15712.66</td>\n",
       "      <td>C365217190</td>\n",
       "      <td>13981.00</td>\n",
       "      <td>0.00</td>\n",
       "      <td>M1108542644</td>\n",
       "      <td>0.00</td>\n",
       "      <td>0.00</td>\n",
       "      <td>0</td>\n",
       "    </tr>\n",
       "    <tr>\n",
       "      <th>6</th>\n",
       "      <td>355</td>\n",
       "      <td>PAYMENT</td>\n",
       "      <td>357.15</td>\n",
       "      <td>C1752574405</td>\n",
       "      <td>283349.71</td>\n",
       "      <td>282992.56</td>\n",
       "      <td>M807801422</td>\n",
       "      <td>0.00</td>\n",
       "      <td>0.00</td>\n",
       "      <td>0</td>\n",
       "    </tr>\n",
       "    <tr>\n",
       "      <th>7</th>\n",
       "      <td>302</td>\n",
       "      <td>PAYMENT</td>\n",
       "      <td>19477.23</td>\n",
       "      <td>C1681583142</td>\n",
       "      <td>0.00</td>\n",
       "      <td>0.00</td>\n",
       "      <td>M911688965</td>\n",
       "      <td>0.00</td>\n",
       "      <td>0.00</td>\n",
       "      <td>0</td>\n",
       "    </tr>\n",
       "    <tr>\n",
       "      <th>8</th>\n",
       "      <td>35</td>\n",
       "      <td>PAYMENT</td>\n",
       "      <td>56554.20</td>\n",
       "      <td>C643126692</td>\n",
       "      <td>503065.44</td>\n",
       "      <td>446511.24</td>\n",
       "      <td>M1453972991</td>\n",
       "      <td>0.00</td>\n",
       "      <td>0.00</td>\n",
       "      <td>0</td>\n",
       "    </tr>\n",
       "    <tr>\n",
       "      <th>11</th>\n",
       "      <td>139</td>\n",
       "      <td>PAYMENT</td>\n",
       "      <td>13409.19</td>\n",
       "      <td>C716300579</td>\n",
       "      <td>322562.56</td>\n",
       "      <td>309153.38</td>\n",
       "      <td>M840764629</td>\n",
       "      <td>0.00</td>\n",
       "      <td>0.00</td>\n",
       "      <td>0</td>\n",
       "    </tr>\n",
       "  </tbody>\n",
       "</table>\n",
       "</div>"
      ],
      "text/plain": [
       "    step     type   amount     nameOrig  oldbalanceOrg  newbalanceOrig  \\\n",
       "5    182  PAYMENT 15712.66   C365217190       13981.00            0.00   \n",
       "6    355  PAYMENT   357.15  C1752574405      283349.71       282992.56   \n",
       "7    302  PAYMENT 19477.23  C1681583142           0.00            0.00   \n",
       "8     35  PAYMENT 56554.20   C643126692      503065.44       446511.24   \n",
       "11   139  PAYMENT 13409.19   C716300579      322562.56       309153.38   \n",
       "\n",
       "       nameDest  oldbalanceDest  newbalanceDest  isFraud  \n",
       "5   M1108542644            0.00            0.00        0  \n",
       "6    M807801422            0.00            0.00        0  \n",
       "7    M911688965            0.00            0.00        0  \n",
       "8   M1453972991            0.00            0.00        0  \n",
       "11   M840764629            0.00            0.00        0  "
      ]
     },
     "execution_count": 16,
     "metadata": {},
     "output_type": "execute_result"
    }
   ],
   "source": [
    "payment.head()"
   ]
  },
  {
   "cell_type": "code",
   "execution_count": 17,
   "id": "3dd1665c",
   "metadata": {},
   "outputs": [
    {
     "data": {
      "text/html": [
       "<div>\n",
       "<style scoped>\n",
       "    .dataframe tbody tr th:only-of-type {\n",
       "        vertical-align: middle;\n",
       "    }\n",
       "\n",
       "    .dataframe tbody tr th {\n",
       "        vertical-align: top;\n",
       "    }\n",
       "\n",
       "    .dataframe thead th {\n",
       "        text-align: right;\n",
       "    }\n",
       "</style>\n",
       "<table border=\"1\" class=\"dataframe\">\n",
       "  <thead>\n",
       "    <tr style=\"text-align: right;\">\n",
       "      <th></th>\n",
       "      <th>step</th>\n",
       "      <th>type</th>\n",
       "      <th>amount</th>\n",
       "      <th>nameOrig</th>\n",
       "      <th>oldbalanceOrg</th>\n",
       "      <th>newbalanceOrig</th>\n",
       "      <th>nameDest</th>\n",
       "      <th>oldbalanceDest</th>\n",
       "      <th>newbalanceDest</th>\n",
       "      <th>isFraud</th>\n",
       "    </tr>\n",
       "  </thead>\n",
       "  <tbody>\n",
       "    <tr>\n",
       "      <th>14</th>\n",
       "      <td>48</td>\n",
       "      <td>TRANSFER</td>\n",
       "      <td>72641.28</td>\n",
       "      <td>C1119777637</td>\n",
       "      <td>0.00</td>\n",
       "      <td>0.00</td>\n",
       "      <td>C1186553459</td>\n",
       "      <td>581740.44</td>\n",
       "      <td>654381.72</td>\n",
       "      <td>0</td>\n",
       "    </tr>\n",
       "    <tr>\n",
       "      <th>76</th>\n",
       "      <td>34</td>\n",
       "      <td>TRANSFER</td>\n",
       "      <td>652380.14</td>\n",
       "      <td>C647366173</td>\n",
       "      <td>26181.85</td>\n",
       "      <td>0.00</td>\n",
       "      <td>C1756965554</td>\n",
       "      <td>667108.73</td>\n",
       "      <td>1319488.88</td>\n",
       "      <td>0</td>\n",
       "    </tr>\n",
       "    <tr>\n",
       "      <th>80</th>\n",
       "      <td>350</td>\n",
       "      <td>TRANSFER</td>\n",
       "      <td>638890.23</td>\n",
       "      <td>C2085409217</td>\n",
       "      <td>0.00</td>\n",
       "      <td>0.00</td>\n",
       "      <td>C807258450</td>\n",
       "      <td>829440.00</td>\n",
       "      <td>1468330.23</td>\n",
       "      <td>0</td>\n",
       "    </tr>\n",
       "    <tr>\n",
       "      <th>88</th>\n",
       "      <td>345</td>\n",
       "      <td>TRANSFER</td>\n",
       "      <td>1966939.36</td>\n",
       "      <td>C549213081</td>\n",
       "      <td>0.00</td>\n",
       "      <td>0.00</td>\n",
       "      <td>C437801258</td>\n",
       "      <td>8297777.70</td>\n",
       "      <td>10264717.06</td>\n",
       "      <td>0</td>\n",
       "    </tr>\n",
       "    <tr>\n",
       "      <th>109</th>\n",
       "      <td>402</td>\n",
       "      <td>TRANSFER</td>\n",
       "      <td>58108.25</td>\n",
       "      <td>C219128708</td>\n",
       "      <td>22340.00</td>\n",
       "      <td>0.00</td>\n",
       "      <td>C289496053</td>\n",
       "      <td>4374.73</td>\n",
       "      <td>62482.98</td>\n",
       "      <td>0</td>\n",
       "    </tr>\n",
       "  </tbody>\n",
       "</table>\n",
       "</div>"
      ],
      "text/plain": [
       "     step      type     amount     nameOrig  oldbalanceOrg  newbalanceOrig  \\\n",
       "14     48  TRANSFER   72641.28  C1119777637           0.00            0.00   \n",
       "76     34  TRANSFER  652380.14   C647366173       26181.85            0.00   \n",
       "80    350  TRANSFER  638890.23  C2085409217           0.00            0.00   \n",
       "88    345  TRANSFER 1966939.36   C549213081           0.00            0.00   \n",
       "109   402  TRANSFER   58108.25   C219128708       22340.00            0.00   \n",
       "\n",
       "        nameDest  oldbalanceDest  newbalanceDest  isFraud  \n",
       "14   C1186553459       581740.44       654381.72        0  \n",
       "76   C1756965554       667108.73      1319488.88        0  \n",
       "80    C807258450       829440.00      1468330.23        0  \n",
       "88    C437801258      8297777.70     10264717.06        0  \n",
       "109   C289496053         4374.73        62482.98        0  "
      ]
     },
     "execution_count": 17,
     "metadata": {},
     "output_type": "execute_result"
    }
   ],
   "source": [
    "transfer.head()"
   ]
  },
  {
   "cell_type": "code",
   "execution_count": 18,
   "id": "0ce66612",
   "metadata": {},
   "outputs": [
    {
     "data": {
      "text/html": [
       "<div>\n",
       "<style scoped>\n",
       "    .dataframe tbody tr th:only-of-type {\n",
       "        vertical-align: middle;\n",
       "    }\n",
       "\n",
       "    .dataframe tbody tr th {\n",
       "        vertical-align: top;\n",
       "    }\n",
       "\n",
       "    .dataframe thead th {\n",
       "        text-align: right;\n",
       "    }\n",
       "</style>\n",
       "<table border=\"1\" class=\"dataframe\">\n",
       "  <thead>\n",
       "    <tr style=\"text-align: right;\">\n",
       "      <th></th>\n",
       "      <th>step</th>\n",
       "      <th>type</th>\n",
       "      <th>amount</th>\n",
       "      <th>nameOrig</th>\n",
       "      <th>oldbalanceOrg</th>\n",
       "      <th>newbalanceOrig</th>\n",
       "      <th>nameDest</th>\n",
       "      <th>oldbalanceDest</th>\n",
       "      <th>newbalanceDest</th>\n",
       "      <th>isFraud</th>\n",
       "    </tr>\n",
       "  </thead>\n",
       "  <tbody>\n",
       "    <tr>\n",
       "      <th>310</th>\n",
       "      <td>144</td>\n",
       "      <td>DEBIT</td>\n",
       "      <td>1584.27</td>\n",
       "      <td>C864966536</td>\n",
       "      <td>20627.00</td>\n",
       "      <td>19042.73</td>\n",
       "      <td>C457613367</td>\n",
       "      <td>92590.47</td>\n",
       "      <td>94174.74</td>\n",
       "      <td>0</td>\n",
       "    </tr>\n",
       "    <tr>\n",
       "      <th>331</th>\n",
       "      <td>325</td>\n",
       "      <td>DEBIT</td>\n",
       "      <td>6553.98</td>\n",
       "      <td>C893615350</td>\n",
       "      <td>56242.00</td>\n",
       "      <td>49688.02</td>\n",
       "      <td>C827584025</td>\n",
       "      <td>174084.28</td>\n",
       "      <td>180638.26</td>\n",
       "      <td>0</td>\n",
       "    </tr>\n",
       "    <tr>\n",
       "      <th>491</th>\n",
       "      <td>185</td>\n",
       "      <td>DEBIT</td>\n",
       "      <td>29957.45</td>\n",
       "      <td>C111990331</td>\n",
       "      <td>4676.00</td>\n",
       "      <td>0.00</td>\n",
       "      <td>C1827267981</td>\n",
       "      <td>528351.30</td>\n",
       "      <td>558308.75</td>\n",
       "      <td>0</td>\n",
       "    </tr>\n",
       "    <tr>\n",
       "      <th>559</th>\n",
       "      <td>208</td>\n",
       "      <td>DEBIT</td>\n",
       "      <td>1218.41</td>\n",
       "      <td>C93532751</td>\n",
       "      <td>11195.00</td>\n",
       "      <td>9976.59</td>\n",
       "      <td>C771258296</td>\n",
       "      <td>407075.57</td>\n",
       "      <td>408293.98</td>\n",
       "      <td>0</td>\n",
       "    </tr>\n",
       "    <tr>\n",
       "      <th>806</th>\n",
       "      <td>695</td>\n",
       "      <td>DEBIT</td>\n",
       "      <td>3461.28</td>\n",
       "      <td>C1279591017</td>\n",
       "      <td>132648.00</td>\n",
       "      <td>129186.72</td>\n",
       "      <td>C529351377</td>\n",
       "      <td>15057303.08</td>\n",
       "      <td>15060764.36</td>\n",
       "      <td>0</td>\n",
       "    </tr>\n",
       "  </tbody>\n",
       "</table>\n",
       "</div>"
      ],
      "text/plain": [
       "     step   type   amount     nameOrig  oldbalanceOrg  newbalanceOrig  \\\n",
       "310   144  DEBIT  1584.27   C864966536       20627.00        19042.73   \n",
       "331   325  DEBIT  6553.98   C893615350       56242.00        49688.02   \n",
       "491   185  DEBIT 29957.45   C111990331        4676.00            0.00   \n",
       "559   208  DEBIT  1218.41    C93532751       11195.00         9976.59   \n",
       "806   695  DEBIT  3461.28  C1279591017      132648.00       129186.72   \n",
       "\n",
       "        nameDest  oldbalanceDest  newbalanceDest  isFraud  \n",
       "310   C457613367        92590.47        94174.74        0  \n",
       "331   C827584025       174084.28       180638.26        0  \n",
       "491  C1827267981       528351.30       558308.75        0  \n",
       "559   C771258296       407075.57       408293.98        0  \n",
       "806   C529351377     15057303.08     15060764.36        0  "
      ]
     },
     "execution_count": 18,
     "metadata": {},
     "output_type": "execute_result"
    }
   ],
   "source": [
    "debit.head()"
   ]
  },
  {
   "cell_type": "markdown",
   "id": "b85a7f46",
   "metadata": {},
   "source": [
    "# valores nulos"
   ]
  },
  {
   "cell_type": "code",
   "execution_count": 19,
   "id": "3de1a436",
   "metadata": {},
   "outputs": [
    {
     "data": {
      "text/plain": [
       "step              0\n",
       "type              0\n",
       "amount            0\n",
       "nameOrig          0\n",
       "oldbalanceOrg     0\n",
       "newbalanceOrig    0\n",
       "nameDest          0\n",
       "oldbalanceDest    0\n",
       "newbalanceDest    0\n",
       "isFraud           0\n",
       "dtype: int64"
      ]
     },
     "execution_count": 19,
     "metadata": {},
     "output_type": "execute_result"
    }
   ],
   "source": [
    "df.isna().sum()"
   ]
  },
  {
   "cell_type": "code",
   "execution_count": 20,
   "id": "3ba070c4",
   "metadata": {},
   "outputs": [
    {
     "data": {
      "text/plain": [
       "np.int64(0)"
      ]
     },
     "execution_count": 20,
     "metadata": {},
     "output_type": "execute_result"
    }
   ],
   "source": [
    "df.duplicated().sum()"
   ]
  },
  {
   "cell_type": "code",
   "execution_count": 21,
   "id": "ce4aec19",
   "metadata": {},
   "outputs": [
    {
     "data": {
      "text/plain": [
       "step  step\n",
       "1     1       89\n",
       "2     2       37\n",
       "3     3       14\n",
       "4     4       14\n",
       "5     5       19\n",
       "              ..\n",
       "724   724      1\n",
       "727   727      1\n",
       "730   730      1\n",
       "735   735      2\n",
       "741   741      1\n",
       "Length: 524, dtype: int64"
      ]
     },
     "execution_count": 21,
     "metadata": {},
     "output_type": "execute_result"
    }
   ],
   "source": [
    "df.groupby(['step', 'step']).size()"
   ]
  },
  {
   "cell_type": "code",
   "execution_count": 22,
   "id": "0d67f5f0",
   "metadata": {},
   "outputs": [
    {
     "data": {
      "text/html": [
       "<div>\n",
       "<style scoped>\n",
       "    .dataframe tbody tr th:only-of-type {\n",
       "        vertical-align: middle;\n",
       "    }\n",
       "\n",
       "    .dataframe tbody tr th {\n",
       "        vertical-align: top;\n",
       "    }\n",
       "\n",
       "    .dataframe thead th {\n",
       "        text-align: right;\n",
       "    }\n",
       "</style>\n",
       "<table border=\"1\" class=\"dataframe\">\n",
       "  <thead>\n",
       "    <tr style=\"text-align: right;\">\n",
       "      <th></th>\n",
       "      <th>step</th>\n",
       "      <th>type</th>\n",
       "      <th>amount</th>\n",
       "      <th>nameOrig</th>\n",
       "      <th>oldbalanceOrg</th>\n",
       "      <th>newbalanceOrig</th>\n",
       "      <th>nameDest</th>\n",
       "      <th>oldbalanceDest</th>\n",
       "      <th>newbalanceDest</th>\n",
       "      <th>isFraud</th>\n",
       "    </tr>\n",
       "  </thead>\n",
       "  <tbody>\n",
       "    <tr>\n",
       "      <th>26346</th>\n",
       "      <td>3</td>\n",
       "      <td>PAYMENT</td>\n",
       "      <td>3222.39</td>\n",
       "      <td>C1110095671</td>\n",
       "      <td>18340.00</td>\n",
       "      <td>15117.61</td>\n",
       "      <td>M1071977170</td>\n",
       "      <td>0.00</td>\n",
       "      <td>0.00</td>\n",
       "      <td>0</td>\n",
       "    </tr>\n",
       "    <tr>\n",
       "      <th>34185</th>\n",
       "      <td>3</td>\n",
       "      <td>PAYMENT</td>\n",
       "      <td>5365.37</td>\n",
       "      <td>C1918121287</td>\n",
       "      <td>31469.00</td>\n",
       "      <td>26103.63</td>\n",
       "      <td>M1032382137</td>\n",
       "      <td>0.00</td>\n",
       "      <td>0.00</td>\n",
       "      <td>0</td>\n",
       "    </tr>\n",
       "    <tr>\n",
       "      <th>45513</th>\n",
       "      <td>3</td>\n",
       "      <td>CASH_IN</td>\n",
       "      <td>351903.76</td>\n",
       "      <td>C1670849676</td>\n",
       "      <td>4854848.05</td>\n",
       "      <td>5206751.81</td>\n",
       "      <td>C1782113663</td>\n",
       "      <td>2512769.83</td>\n",
       "      <td>1982491.06</td>\n",
       "      <td>0</td>\n",
       "    </tr>\n",
       "    <tr>\n",
       "      <th>49128</th>\n",
       "      <td>3</td>\n",
       "      <td>PAYMENT</td>\n",
       "      <td>4407.34</td>\n",
       "      <td>C731979931</td>\n",
       "      <td>4480.74</td>\n",
       "      <td>73.39</td>\n",
       "      <td>M2082740895</td>\n",
       "      <td>0.00</td>\n",
       "      <td>0.00</td>\n",
       "      <td>0</td>\n",
       "    </tr>\n",
       "    <tr>\n",
       "      <th>55010</th>\n",
       "      <td>3</td>\n",
       "      <td>PAYMENT</td>\n",
       "      <td>13012.92</td>\n",
       "      <td>C1063494931</td>\n",
       "      <td>30803.00</td>\n",
       "      <td>17790.08</td>\n",
       "      <td>M1094446968</td>\n",
       "      <td>0.00</td>\n",
       "      <td>0.00</td>\n",
       "      <td>0</td>\n",
       "    </tr>\n",
       "    <tr>\n",
       "      <th>68682</th>\n",
       "      <td>3</td>\n",
       "      <td>PAYMENT</td>\n",
       "      <td>10580.12</td>\n",
       "      <td>C1280378749</td>\n",
       "      <td>589.00</td>\n",
       "      <td>0.00</td>\n",
       "      <td>M1500821480</td>\n",
       "      <td>0.00</td>\n",
       "      <td>0.00</td>\n",
       "      <td>0</td>\n",
       "    </tr>\n",
       "    <tr>\n",
       "      <th>77596</th>\n",
       "      <td>3</td>\n",
       "      <td>PAYMENT</td>\n",
       "      <td>9778.62</td>\n",
       "      <td>C272220100</td>\n",
       "      <td>95292.00</td>\n",
       "      <td>85513.38</td>\n",
       "      <td>M2139431292</td>\n",
       "      <td>0.00</td>\n",
       "      <td>0.00</td>\n",
       "      <td>0</td>\n",
       "    </tr>\n",
       "    <tr>\n",
       "      <th>132124</th>\n",
       "      <td>3</td>\n",
       "      <td>PAYMENT</td>\n",
       "      <td>20781.99</td>\n",
       "      <td>C1633770314</td>\n",
       "      <td>197549.00</td>\n",
       "      <td>176767.01</td>\n",
       "      <td>M1914538677</td>\n",
       "      <td>0.00</td>\n",
       "      <td>0.00</td>\n",
       "      <td>0</td>\n",
       "    </tr>\n",
       "    <tr>\n",
       "      <th>139237</th>\n",
       "      <td>3</td>\n",
       "      <td>PAYMENT</td>\n",
       "      <td>40550.78</td>\n",
       "      <td>C530131514</td>\n",
       "      <td>0.00</td>\n",
       "      <td>0.00</td>\n",
       "      <td>M817833695</td>\n",
       "      <td>0.00</td>\n",
       "      <td>0.00</td>\n",
       "      <td>0</td>\n",
       "    </tr>\n",
       "    <tr>\n",
       "      <th>143592</th>\n",
       "      <td>3</td>\n",
       "      <td>PAYMENT</td>\n",
       "      <td>4155.21</td>\n",
       "      <td>C2135267024</td>\n",
       "      <td>0.00</td>\n",
       "      <td>0.00</td>\n",
       "      <td>M1610803524</td>\n",
       "      <td>0.00</td>\n",
       "      <td>0.00</td>\n",
       "      <td>0</td>\n",
       "    </tr>\n",
       "    <tr>\n",
       "      <th>169382</th>\n",
       "      <td>3</td>\n",
       "      <td>PAYMENT</td>\n",
       "      <td>85.42</td>\n",
       "      <td>C16957838</td>\n",
       "      <td>10386.00</td>\n",
       "      <td>10300.58</td>\n",
       "      <td>M652268444</td>\n",
       "      <td>0.00</td>\n",
       "      <td>0.00</td>\n",
       "      <td>0</td>\n",
       "    </tr>\n",
       "    <tr>\n",
       "      <th>169443</th>\n",
       "      <td>3</td>\n",
       "      <td>PAYMENT</td>\n",
       "      <td>16573.43</td>\n",
       "      <td>C2059316201</td>\n",
       "      <td>40857.00</td>\n",
       "      <td>24283.57</td>\n",
       "      <td>M1510333744</td>\n",
       "      <td>0.00</td>\n",
       "      <td>0.00</td>\n",
       "      <td>0</td>\n",
       "    </tr>\n",
       "    <tr>\n",
       "      <th>171903</th>\n",
       "      <td>3</td>\n",
       "      <td>PAYMENT</td>\n",
       "      <td>2011.37</td>\n",
       "      <td>C7508078</td>\n",
       "      <td>18783.18</td>\n",
       "      <td>16771.81</td>\n",
       "      <td>M1428815684</td>\n",
       "      <td>0.00</td>\n",
       "      <td>0.00</td>\n",
       "      <td>0</td>\n",
       "    </tr>\n",
       "    <tr>\n",
       "      <th>185765</th>\n",
       "      <td>3</td>\n",
       "      <td>CASH_IN</td>\n",
       "      <td>415046.18</td>\n",
       "      <td>C1139817507</td>\n",
       "      <td>2227089.93</td>\n",
       "      <td>2642136.11</td>\n",
       "      <td>C1538745405</td>\n",
       "      <td>685156.96</td>\n",
       "      <td>270110.78</td>\n",
       "      <td>0</td>\n",
       "    </tr>\n",
       "  </tbody>\n",
       "</table>\n",
       "</div>"
      ],
      "text/plain": [
       "        step     type    amount     nameOrig  oldbalanceOrg  newbalanceOrig  \\\n",
       "26346      3  PAYMENT   3222.39  C1110095671       18340.00        15117.61   \n",
       "34185      3  PAYMENT   5365.37  C1918121287       31469.00        26103.63   \n",
       "45513      3  CASH_IN 351903.76  C1670849676     4854848.05      5206751.81   \n",
       "49128      3  PAYMENT   4407.34   C731979931        4480.74           73.39   \n",
       "55010      3  PAYMENT  13012.92  C1063494931       30803.00        17790.08   \n",
       "68682      3  PAYMENT  10580.12  C1280378749         589.00            0.00   \n",
       "77596      3  PAYMENT   9778.62   C272220100       95292.00        85513.38   \n",
       "132124     3  PAYMENT  20781.99  C1633770314      197549.00       176767.01   \n",
       "139237     3  PAYMENT  40550.78   C530131514           0.00            0.00   \n",
       "143592     3  PAYMENT   4155.21  C2135267024           0.00            0.00   \n",
       "169382     3  PAYMENT     85.42    C16957838       10386.00        10300.58   \n",
       "169443     3  PAYMENT  16573.43  C2059316201       40857.00        24283.57   \n",
       "171903     3  PAYMENT   2011.37     C7508078       18783.18        16771.81   \n",
       "185765     3  CASH_IN 415046.18  C1139817507     2227089.93      2642136.11   \n",
       "\n",
       "           nameDest  oldbalanceDest  newbalanceDest  isFraud  \n",
       "26346   M1071977170            0.00            0.00        0  \n",
       "34185   M1032382137            0.00            0.00        0  \n",
       "45513   C1782113663      2512769.83      1982491.06        0  \n",
       "49128   M2082740895            0.00            0.00        0  \n",
       "55010   M1094446968            0.00            0.00        0  \n",
       "68682   M1500821480            0.00            0.00        0  \n",
       "77596   M2139431292            0.00            0.00        0  \n",
       "132124  M1914538677            0.00            0.00        0  \n",
       "139237   M817833695            0.00            0.00        0  \n",
       "143592  M1610803524            0.00            0.00        0  \n",
       "169382   M652268444            0.00            0.00        0  \n",
       "169443  M1510333744            0.00            0.00        0  \n",
       "171903  M1428815684            0.00            0.00        0  \n",
       "185765  C1538745405       685156.96       270110.78        0  "
      ]
     },
     "execution_count": 22,
     "metadata": {},
     "output_type": "execute_result"
    }
   ],
   "source": [
    "df[df['step'] == 3]"
   ]
  },
  {
   "cell_type": "markdown",
   "id": "45bd02c3",
   "metadata": {},
   "source": [
    "# Analisis univariado"
   ]
  },
  {
   "cell_type": "markdown",
   "id": "d7d0da9d",
   "metadata": {},
   "source": [
    "Histogramas"
   ]
  },
  {
   "cell_type": "code",
   "execution_count": 38,
   "id": "5269f7fa",
   "metadata": {},
   "outputs": [
    {
     "name": "stderr",
     "output_type": "stream",
     "text": [
      "C:\\Users\\Eduar\\AppData\\Roaming\\Python\\Python313\\site-packages\\pandas\\core\\nanops.py:1016: RuntimeWarning: invalid value encountered in subtract\n",
      "  sqr = _ensure_numeric((avg - values) ** 2)\n"
     ]
    },
    {
     "data": {
      "image/png": "[encoded data removed]",
      "text/plain": [
       "<Figure size 800x400 with 1 Axes>"
      ]
     },
     "metadata": {},
     "output_type": "display_data"
    }
   ],
   "source": [
    "# Histograma\n",
    "plt.figure(figsize=(8,4))\n",
    "sns.histplot(df['amount'], bins=10, kde=True,log_scale = True )\n",
    "plt.title(f\"Histograma de {'amount'}\")\n",
    "plt.show()"
   ]
  },
  {
   "cell_type": "code",
   "execution_count": 42,
   "id": "f69406de",
   "metadata": {},
   "outputs": [
    {
     "data": {
      "image/png": "[encoded data removed]",
      "text/plain": [
       "<Figure size 800x400 with 1 Axes>"
      ]
     },
     "metadata": {},
     "output_type": "display_data"
    }
   ],
   "source": [
    "# Histograma\n",
    "plt.figure(figsize=(8,4))\n",
    "sns.histplot(df['step'], bins=6, kde=True,)\n",
    "plt.title(f\"Histograma de steps\")\n",
    "plt.show()"
   ]
  },
  {
   "cell_type": "markdown",
   "id": "0a639696",
   "metadata": {},
   "source": [
    "Boxplot"
   ]
  },
  {
   "cell_type": "code",
   "execution_count": 39,
   "id": "9ff57750",
   "metadata": {},
   "outputs": [
    {
     "data": {
      "image/png": "[encoded data removed]",
      "text/plain": [
       "<Figure size 800x200 with 1 Axes>"
      ]
     },
     "metadata": {},
     "output_type": "display_data"
    }
   ],
   "source": [
    "filtro_a = df[df['step'] > 600]\n",
    "plt.figure(figsize=(8,2))\n",
    "sns.boxplot(x=filtro_a['step'])\n",
    "plt.title(f\"Boxplot de stpes\")\n",
    "plt.show()"
   ]
  },
  {
   "cell_type": "code",
   "execution_count": 27,
   "id": "43220c6a",
   "metadata": {},
   "outputs": [
    {
     "data": {
      "text/plain": [
       "step              113508\n",
       "type              113508\n",
       "amount            113508\n",
       "nameOrig          113508\n",
       "oldbalanceOrg     113508\n",
       "newbalanceOrig    113508\n",
       "nameDest          113508\n",
       "oldbalanceDest    113508\n",
       "newbalanceDest    113508\n",
       "isFraud           113508\n",
       "dtype: int64"
      ]
     },
     "execution_count": 27,
     "metadata": {},
     "output_type": "execute_result"
    }
   ],
   "source": [
    "df[df['newbalanceOrig'] == 0.0].count()"
   ]
  },
  {
   "cell_type": "code",
   "execution_count": 28,
   "id": "3d6df499",
   "metadata": {},
   "outputs": [
    {
     "data": {
      "text/plain": [
       "step              76574\n",
       "type              76574\n",
       "amount            76574\n",
       "nameOrig          76574\n",
       "oldbalanceOrg     76574\n",
       "newbalanceOrig    76574\n",
       "nameDest          76574\n",
       "oldbalanceDest    76574\n",
       "newbalanceDest    76574\n",
       "isFraud           76574\n",
       "dtype: int64"
      ]
     },
     "execution_count": 28,
     "metadata": {},
     "output_type": "execute_result"
    }
   ],
   "source": [
    "df[df['newbalanceDest'] == 0.0].count()"
   ]
  },
  {
   "cell_type": "code",
   "execution_count": 29,
   "id": "003fcf98",
   "metadata": {},
   "outputs": [
    {
     "data": {
      "text/plain": [
       "step              85165\n",
       "type              85165\n",
       "amount            85165\n",
       "nameOrig          85165\n",
       "oldbalanceOrg     85165\n",
       "newbalanceOrig    85165\n",
       "nameDest          85165\n",
       "oldbalanceDest    85165\n",
       "newbalanceDest    85165\n",
       "isFraud           85165\n",
       "dtype: int64"
      ]
     },
     "execution_count": 29,
     "metadata": {},
     "output_type": "execute_result"
    }
   ],
   "source": [
    "df[df['oldbalanceDest'] == 0.0].count()"
   ]
  },
  {
   "cell_type": "code",
   "execution_count": 30,
   "id": "ad71dbd1",
   "metadata": {},
   "outputs": [
    {
     "data": {
      "text/plain": [
       "step              66179\n",
       "type              66179\n",
       "amount            66179\n",
       "nameOrig          66179\n",
       "oldbalanceOrg     66179\n",
       "newbalanceOrig    66179\n",
       "nameDest          66179\n",
       "oldbalanceDest    66179\n",
       "newbalanceDest    66179\n",
       "isFraud           66179\n",
       "dtype: int64"
      ]
     },
     "execution_count": 30,
     "metadata": {},
     "output_type": "execute_result"
    }
   ],
   "source": [
    "df[df['oldbalanceOrg'] == 0.0].count()"
   ]
  },
  {
   "cell_type": "code",
   "execution_count": 46,
   "id": "4c3bf499",
   "metadata": {},
   "outputs": [
    {
     "data": {
      "image/png": "[encoded data removed]",
      "text/plain": [
       "<Figure size 640x480 with 1 Axes>"
      ]
     },
     "metadata": {},
     "output_type": "display_data"
    }
   ],
   "source": [
    "grouped = df.groupby('type')['amount'].sum().reset_index()\n",
    "\n",
    "# Crear gráfica de barras\n",
    "plt.figure()\n",
    "plt.bar(grouped['type'], grouped['amount'])\n",
    "plt.xlabel('Tipo de Transacción')\n",
    "plt.ylabel('Monto Total')\n",
    "plt.title('Monto Total por Tipo de Transacción')\n",
    "plt.xticks(rotation=45)\n",
    "plt.tight_layout()\n",
    "plt.show()"
   ]
  },
  {
   "cell_type": "code",
   "execution_count": 49,
   "id": "c0509ecb",
   "metadata": {},
   "outputs": [],
   "source": [
    "totales = grouped['amount'].sum()\n"
   ]
  },
  {
   "cell_type": "code",
   "execution_count": 51,
   "id": "dc294711",
   "metadata": {},
   "outputs": [
    {
     "data": {
      "text/html": [
       "<div>\n",
       "<style scoped>\n",
       "    .dataframe tbody tr th:only-of-type {\n",
       "        vertical-align: middle;\n",
       "    }\n",
       "\n",
       "    .dataframe tbody tr th {\n",
       "        vertical-align: top;\n",
       "    }\n",
       "\n",
       "    .dataframe thead th {\n",
       "        text-align: right;\n",
       "    }\n",
       "</style>\n",
       "<table border=\"1\" class=\"dataframe\">\n",
       "  <thead>\n",
       "    <tr style=\"text-align: right;\">\n",
       "      <th></th>\n",
       "      <th>type</th>\n",
       "      <th>amount</th>\n",
       "      <th>porcentaje</th>\n",
       "    </tr>\n",
       "  </thead>\n",
       "  <tbody>\n",
       "    <tr>\n",
       "      <th>0</th>\n",
       "      <td>CASH_IN</td>\n",
       "      <td>7404175105.08</td>\n",
       "      <td>20.54</td>\n",
       "    </tr>\n",
       "    <tr>\n",
       "      <th>1</th>\n",
       "      <td>CASH_OUT</td>\n",
       "      <td>12403119543.86</td>\n",
       "      <td>34.41</td>\n",
       "    </tr>\n",
       "    <tr>\n",
       "      <th>2</th>\n",
       "      <td>DEBIT</td>\n",
       "      <td>6845334.07</td>\n",
       "      <td>0.02</td>\n",
       "    </tr>\n",
       "    <tr>\n",
       "      <th>3</th>\n",
       "      <td>PAYMENT</td>\n",
       "      <td>884354487.31</td>\n",
       "      <td>2.45</td>\n",
       "    </tr>\n",
       "    <tr>\n",
       "      <th>4</th>\n",
       "      <td>TRANSFER</td>\n",
       "      <td>15349822661.71</td>\n",
       "      <td>42.58</td>\n",
       "    </tr>\n",
       "  </tbody>\n",
       "</table>\n",
       "</div>"
      ],
      "text/plain": [
       "       type         amount  porcentaje\n",
       "0   CASH_IN  7404175105.08       20.54\n",
       "1  CASH_OUT 12403119543.86       34.41\n",
       "2     DEBIT     6845334.07        0.02\n",
       "3   PAYMENT   884354487.31        2.45\n",
       "4  TRANSFER 15349822661.71       42.58"
      ]
     },
     "execution_count": 51,
     "metadata": {},
     "output_type": "execute_result"
    }
   ],
   "source": [
    "grouped['porcentaje'] = (grouped['amount'] / totales) * 100\n",
    "grouped"
   ]
  },
  {
   "cell_type": "code",
   "execution_count": 53,
   "id": "bb1a0a59",
   "metadata": {},
   "outputs": [
    {
     "data": {
      "text/plain": [
       "type      type    \n",
       "CASH_IN   CASH_IN     43919\n",
       "CASH_OUT  CASH_OUT    70571\n",
       "DEBIT     DEBIT        1317\n",
       "PAYMENT   PAYMENT     67562\n",
       "TRANSFER  TRANSFER    16630\n",
       "dtype: int64"
      ]
     },
     "execution_count": 53,
     "metadata": {},
     "output_type": "execute_result"
    }
   ],
   "source": [
    "df.groupby(['type', 'type']).size()"
   ]
  },
  {
   "cell_type": "code",
   "execution_count": 54,
   "id": "d5f54e20",
   "metadata": {},
   "outputs": [
    {
     "data": {
      "text/html": [
       "<div>\n",
       "<style scoped>\n",
       "    .dataframe tbody tr th:only-of-type {\n",
       "        vertical-align: middle;\n",
       "    }\n",
       "\n",
       "    .dataframe tbody tr th {\n",
       "        vertical-align: top;\n",
       "    }\n",
       "\n",
       "    .dataframe thead th {\n",
       "        text-align: right;\n",
       "    }\n",
       "</style>\n",
       "<table border=\"1\" class=\"dataframe\">\n",
       "  <thead>\n",
       "    <tr style=\"text-align: right;\">\n",
       "      <th></th>\n",
       "      <th>step</th>\n",
       "      <th>type</th>\n",
       "      <th>amount</th>\n",
       "      <th>nameOrig</th>\n",
       "      <th>oldbalanceOrg</th>\n",
       "      <th>newbalanceOrig</th>\n",
       "      <th>nameDest</th>\n",
       "      <th>oldbalanceDest</th>\n",
       "      <th>newbalanceDest</th>\n",
       "      <th>isFraud</th>\n",
       "    </tr>\n",
       "  </thead>\n",
       "  <tbody>\n",
       "    <tr>\n",
       "      <th>0</th>\n",
       "      <td>8</td>\n",
       "      <td>CASH_OUT</td>\n",
       "      <td>158007.12</td>\n",
       "      <td>C424875646</td>\n",
       "      <td>0.00</td>\n",
       "      <td>0.00</td>\n",
       "      <td>C1298177219</td>\n",
       "      <td>474016.32</td>\n",
       "      <td>1618631.97</td>\n",
       "      <td>0</td>\n",
       "    </tr>\n",
       "    <tr>\n",
       "      <th>1</th>\n",
       "      <td>236</td>\n",
       "      <td>CASH_OUT</td>\n",
       "      <td>457948.30</td>\n",
       "      <td>C1342616552</td>\n",
       "      <td>0.00</td>\n",
       "      <td>0.00</td>\n",
       "      <td>C1323169990</td>\n",
       "      <td>2720411.37</td>\n",
       "      <td>3178359.67</td>\n",
       "      <td>0</td>\n",
       "    </tr>\n",
       "    <tr>\n",
       "      <th>2</th>\n",
       "      <td>37</td>\n",
       "      <td>CASH_IN</td>\n",
       "      <td>153602.99</td>\n",
       "      <td>C900876541</td>\n",
       "      <td>11160428.67</td>\n",
       "      <td>11314031.67</td>\n",
       "      <td>C608741097</td>\n",
       "      <td>3274930.56</td>\n",
       "      <td>3121327.56</td>\n",
       "      <td>0</td>\n",
       "    </tr>\n",
       "    <tr>\n",
       "      <th>3</th>\n",
       "      <td>331</td>\n",
       "      <td>CASH_OUT</td>\n",
       "      <td>49555.14</td>\n",
       "      <td>C177696810</td>\n",
       "      <td>10865.00</td>\n",
       "      <td>0.00</td>\n",
       "      <td>C462716348</td>\n",
       "      <td>0.00</td>\n",
       "      <td>49555.14</td>\n",
       "      <td>0</td>\n",
       "    </tr>\n",
       "    <tr>\n",
       "      <th>4</th>\n",
       "      <td>250</td>\n",
       "      <td>CASH_OUT</td>\n",
       "      <td>29648.02</td>\n",
       "      <td>C788941490</td>\n",
       "      <td>0.00</td>\n",
       "      <td>0.00</td>\n",
       "      <td>C1971700992</td>\n",
       "      <td>56933.09</td>\n",
       "      <td>86581.10</td>\n",
       "      <td>0</td>\n",
       "    </tr>\n",
       "  </tbody>\n",
       "</table>\n",
       "</div>"
      ],
      "text/plain": [
       "   step      type    amount     nameOrig  oldbalanceOrg  newbalanceOrig  \\\n",
       "0     8  CASH_OUT 158007.12   C424875646           0.00            0.00   \n",
       "1   236  CASH_OUT 457948.30  C1342616552           0.00            0.00   \n",
       "2    37   CASH_IN 153602.99   C900876541    11160428.67     11314031.67   \n",
       "3   331  CASH_OUT  49555.14   C177696810       10865.00            0.00   \n",
       "4   250  CASH_OUT  29648.02   C788941490           0.00            0.00   \n",
       "\n",
       "      nameDest  oldbalanceDest  newbalanceDest  isFraud  \n",
       "0  C1298177219       474016.32      1618631.97        0  \n",
       "1  C1323169990      2720411.37      3178359.67        0  \n",
       "2   C608741097      3274930.56      3121327.56        0  \n",
       "3   C462716348            0.00        49555.14        0  \n",
       "4  C1971700992        56933.09        86581.10        0  "
      ]
     },
     "execution_count": 54,
     "metadata": {},
     "output_type": "execute_result"
    }
   ],
   "source": [
    "df.head()"
   ]
  },
  {
   "cell_type": "code",
   "execution_count": 61,
   "id": "65d19123",
   "metadata": {},
   "outputs": [],
   "source": [
    "df['differenceOrig'] = np.abs(df['oldbalanceOrg'] - df['newbalanceOrig'])\n",
    "df['differenceDest'] = np.abs(df['oldbalanceDest'] - df['newbalanceDest'])"
   ]
  },
  {
   "cell_type": "code",
   "execution_count": 69,
   "id": "3f3cfcc8",
   "metadata": {},
   "outputs": [],
   "source": [
    "# Columna que verifica si newbalanceDest == oldbalanceDest + amount\n",
    "df['isOrigconsistent'] = np.isclose(\n",
    "    df['differenceOrig'],\n",
    "    df['amount']\n",
    ") | (df['differenceOrig'] == 0)\n",
    "\n",
    "df['isDestconsistent'] = np.isclose(\n",
    "    df['differenceDest'],\n",
    "    df['amount']\n",
    ") | (df['differenceDest'] == 0)\n"
   ]
  },
  {
   "cell_type": "code",
   "execution_count": 70,
   "id": "290467c7",
   "metadata": {},
   "outputs": [
    {
     "data": {
      "text/html": [
       "<div>\n",
       "<style scoped>\n",
       "    .dataframe tbody tr th:only-of-type {\n",
       "        vertical-align: middle;\n",
       "    }\n",
       "\n",
       "    .dataframe tbody tr th {\n",
       "        vertical-align: top;\n",
       "    }\n",
       "\n",
       "    .dataframe thead th {\n",
       "        text-align: right;\n",
       "    }\n",
       "</style>\n",
       "<table border=\"1\" class=\"dataframe\">\n",
       "  <thead>\n",
       "    <tr style=\"text-align: right;\">\n",
       "      <th></th>\n",
       "      <th>step</th>\n",
       "      <th>type</th>\n",
       "      <th>amount</th>\n",
       "      <th>nameOrig</th>\n",
       "      <th>oldbalanceOrg</th>\n",
       "      <th>newbalanceOrig</th>\n",
       "      <th>nameDest</th>\n",
       "      <th>oldbalanceDest</th>\n",
       "      <th>newbalanceDest</th>\n",
       "      <th>isFraud</th>\n",
       "      <th>differenceOrig</th>\n",
       "      <th>differenceDest</th>\n",
       "      <th>isDestconsistent</th>\n",
       "      <th>isOrigconsistent</th>\n",
       "    </tr>\n",
       "  </thead>\n",
       "  <tbody>\n",
       "    <tr>\n",
       "      <th>0</th>\n",
       "      <td>8</td>\n",
       "      <td>CASH_OUT</td>\n",
       "      <td>158007.12</td>\n",
       "      <td>C424875646</td>\n",
       "      <td>0.00</td>\n",
       "      <td>0.00</td>\n",
       "      <td>C1298177219</td>\n",
       "      <td>474016.32</td>\n",
       "      <td>1618631.97</td>\n",
       "      <td>0</td>\n",
       "      <td>0.00</td>\n",
       "      <td>1144615.65</td>\n",
       "      <td>False</td>\n",
       "      <td>True</td>\n",
       "    </tr>\n",
       "    <tr>\n",
       "      <th>1</th>\n",
       "      <td>236</td>\n",
       "      <td>CASH_OUT</td>\n",
       "      <td>457948.30</td>\n",
       "      <td>C1342616552</td>\n",
       "      <td>0.00</td>\n",
       "      <td>0.00</td>\n",
       "      <td>C1323169990</td>\n",
       "      <td>2720411.37</td>\n",
       "      <td>3178359.67</td>\n",
       "      <td>0</td>\n",
       "      <td>0.00</td>\n",
       "      <td>457948.30</td>\n",
       "      <td>True</td>\n",
       "      <td>True</td>\n",
       "    </tr>\n",
       "    <tr>\n",
       "      <th>2</th>\n",
       "      <td>37</td>\n",
       "      <td>CASH_IN</td>\n",
       "      <td>153602.99</td>\n",
       "      <td>C900876541</td>\n",
       "      <td>11160428.67</td>\n",
       "      <td>11314031.67</td>\n",
       "      <td>C608741097</td>\n",
       "      <td>3274930.56</td>\n",
       "      <td>3121327.56</td>\n",
       "      <td>0</td>\n",
       "      <td>153603.00</td>\n",
       "      <td>153603.00</td>\n",
       "      <td>True</td>\n",
       "      <td>True</td>\n",
       "    </tr>\n",
       "    <tr>\n",
       "      <th>3</th>\n",
       "      <td>331</td>\n",
       "      <td>CASH_OUT</td>\n",
       "      <td>49555.14</td>\n",
       "      <td>C177696810</td>\n",
       "      <td>10865.00</td>\n",
       "      <td>0.00</td>\n",
       "      <td>C462716348</td>\n",
       "      <td>0.00</td>\n",
       "      <td>49555.14</td>\n",
       "      <td>0</td>\n",
       "      <td>10865.00</td>\n",
       "      <td>49555.14</td>\n",
       "      <td>True</td>\n",
       "      <td>False</td>\n",
       "    </tr>\n",
       "    <tr>\n",
       "      <th>4</th>\n",
       "      <td>250</td>\n",
       "      <td>CASH_OUT</td>\n",
       "      <td>29648.02</td>\n",
       "      <td>C788941490</td>\n",
       "      <td>0.00</td>\n",
       "      <td>0.00</td>\n",
       "      <td>C1971700992</td>\n",
       "      <td>56933.09</td>\n",
       "      <td>86581.10</td>\n",
       "      <td>0</td>\n",
       "      <td>0.00</td>\n",
       "      <td>29648.01</td>\n",
       "      <td>True</td>\n",
       "      <td>True</td>\n",
       "    </tr>\n",
       "  </tbody>\n",
       "</table>\n",
       "</div>"
      ],
      "text/plain": [
       "   step      type    amount     nameOrig  oldbalanceOrg  newbalanceOrig  \\\n",
       "0     8  CASH_OUT 158007.12   C424875646           0.00            0.00   \n",
       "1   236  CASH_OUT 457948.30  C1342616552           0.00            0.00   \n",
       "2    37   CASH_IN 153602.99   C900876541    11160428.67     11314031.67   \n",
       "3   331  CASH_OUT  49555.14   C177696810       10865.00            0.00   \n",
       "4   250  CASH_OUT  29648.02   C788941490           0.00            0.00   \n",
       "\n",
       "      nameDest  oldbalanceDest  newbalanceDest  isFraud  differenceOrig  \\\n",
       "0  C1298177219       474016.32      1618631.97        0            0.00   \n",
       "1  C1323169990      2720411.37      3178359.67        0            0.00   \n",
       "2   C608741097      3274930.56      3121327.56        0       153603.00   \n",
       "3   C462716348            0.00        49555.14        0        10865.00   \n",
       "4  C1971700992        56933.09        86581.10        0            0.00   \n",
       "\n",
       "   differenceDest  isDestconsistent  isOrigconsistent  \n",
       "0      1144615.65             False              True  \n",
       "1       457948.30              True              True  \n",
       "2       153603.00              True              True  \n",
       "3        49555.14              True             False  \n",
       "4        29648.01              True              True  "
      ]
     },
     "execution_count": 70,
     "metadata": {},
     "output_type": "execute_result"
    }
   ],
   "source": [
    "df.head()"
   ]
  },
  {
   "cell_type": "code",
   "execution_count": 72,
   "id": "8f823e2c",
   "metadata": {},
   "outputs": [
    {
     "data": {
      "text/plain": [
       "isDestconsistent\n",
       "True     185074\n",
       "False     14925\n",
       "Name: count, dtype: int64"
      ]
     },
     "execution_count": 72,
     "metadata": {},
     "output_type": "execute_result"
    }
   ],
   "source": [
    "df['isDestconsistent'].value_counts()"
   ]
  },
  {
   "cell_type": "code",
   "execution_count": 73,
   "id": "9d500011",
   "metadata": {},
   "outputs": [
    {
     "data": {
      "text/plain": [
       "isOrigconsistent\n",
       "True     152247\n",
       "False     47752\n",
       "Name: count, dtype: int64"
      ]
     },
     "execution_count": 73,
     "metadata": {},
     "output_type": "execute_result"
    }
   ],
   "source": [
    "df['isOrigconsistent'].value_counts()"
   ]
  },
  {
   "cell_type": "code",
   "execution_count": 74,
   "id": "c630d6c2",
   "metadata": {},
   "outputs": [
    {
     "name": "stdout",
     "output_type": "stream",
     "text": [
      "Número de filas inconsistentes en origen y destino: 3549\n"
     ]
    }
   ],
   "source": [
    "# Usando suma booleana (True→1, False→0)\n",
    "count_inconsistentes = ((~df['isDestconsistent']) & (~df['isOrigconsistent'])).sum()\n",
    "print(f\"Número de filas inconsistentes en origen y destino: {count_inconsistentes}\")\n"
   ]
  },
  {
   "cell_type": "code",
   "execution_count": 75,
   "id": "90d44bab",
   "metadata": {},
   "outputs": [
    {
     "name": "stdout",
     "output_type": "stream",
     "text": [
      "Destino:  7.462537312686564 %\n",
      "Origen: 23.8761193805969 %\n",
      "Ambos 1.7745088725443627 %\n"
     ]
    }
   ],
   "source": [
    "print('Destino: ',(14925 / 199999)*100,'%')\n",
    "print('Origen:',(47752 / 199999)*100,'%')\n",
    "print('Ambos', (3549 / 199999)*100,'%')\n"
   ]
  }
 ],
 "metadata": {
  "kernelspec": {
   "display_name": "Python 3",
   "language": "python",
   "name": "python3"
  },
  "language_info": {
   "codemirror_mode": {
    "name": "ipython",
    "version": 3
   },
   "file_extension": ".py",
   "mimetype": "text/x-python",
   "name": "python",
   "nbconvert_exporter": "python",
   "pygments_lexer": "ipython3",
   "version": "3.13.1"
  }
 },
 "nbformat": 4,
 "nbformat_minor": 5
}
